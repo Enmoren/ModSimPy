{
 "cells": [
  {
   "cell_type": "markdown",
   "metadata": {},
   "source": [
    "# Modeling and Simulation in Python\n",
    "\n",
    "Chapter 9: Projectiles\n",
    "\n",
    "Copyright 2017 Allen Downey\n",
    "\n",
    "License: [Creative Commons Attribution 4.0 International](https://creativecommons.org/licenses/by/4.0)\n"
   ]
  },
  {
   "cell_type": "code",
   "execution_count": 3,
   "metadata": {
    "collapsed": true
   },
   "outputs": [],
   "source": [
    "# If you want the figures to appear in the notebook, \n",
    "# and you want to interact with them, use\n",
    "# %matplotlib notebook\n",
    "\n",
    "# If you want the figures to appear in the notebook, \n",
    "# and you don't want to interact with them, use\n",
    "# %matplotlib inline\n",
    "\n",
    "# If you want the figures to appear in separate windows, use\n",
    "# %matplotlib qt5\n",
    "\n",
    "# tempo switch from one to another, you have to select Kernel->Restart\n",
    "\n",
    "%matplotlib inline\n",
    "\n",
    "from modsim import *"
   ]
  },
  {
   "cell_type": "markdown",
   "metadata": {
    "collapsed": true
   },
   "source": [
    "### Dropping pennies\n",
    "\n",
    "I'll start by getting the units we'll need from Pint."
   ]
  },
  {
   "cell_type": "code",
   "execution_count": 4,
   "metadata": {
    "collapsed": true
   },
   "outputs": [],
   "source": [
    "m = UNITS.meter\n",
    "s = UNITS.second\n",
    "kg = UNITS.kilogram"
   ]
  },
  {
   "cell_type": "markdown",
   "metadata": {
    "collapsed": true
   },
   "source": [
    "And defining the initial state."
   ]
  },
  {
   "cell_type": "code",
   "execution_count": 5,
   "metadata": {
    "scrolled": true
   },
   "outputs": [
    {
     "data": {
      "text/html": [
       "<div>\n",
       "<style>\n",
       "    .dataframe thead tr:only-child th {\n",
       "        text-align: right;\n",
       "    }\n",
       "\n",
       "    .dataframe thead th {\n",
       "        text-align: left;\n",
       "    }\n",
       "\n",
       "    .dataframe tbody tr th {\n",
       "        vertical-align: top;\n",
       "    }\n",
       "</style>\n",
       "<table border=\"1\" class=\"dataframe\">\n",
       "  <thead>\n",
       "    <tr style=\"text-align: right;\">\n",
       "      <th></th>\n",
       "      <th>value</th>\n",
       "    </tr>\n",
       "  </thead>\n",
       "  <tbody>\n",
       "    <tr>\n",
       "      <th>y</th>\n",
       "      <td>381 meter</td>\n",
       "    </tr>\n",
       "    <tr>\n",
       "      <th>v</th>\n",
       "      <td>0.0 meter / second</td>\n",
       "    </tr>\n",
       "  </tbody>\n",
       "</table>\n",
       "</div>"
      ],
      "text/plain": [
       "y             381 meter\n",
       "v    0.0 meter / second\n",
       "dtype: object"
      ]
     },
     "execution_count": 5,
     "metadata": {},
     "output_type": "execute_result"
    }
   ],
   "source": [
    "init = State(y=381 * m, \n",
    "             v=0 * m/s)\n",
    "init"
   ]
  },
  {
   "cell_type": "markdown",
   "metadata": {
    "collapsed": true
   },
   "source": [
    "Acceleration due to gravity is about 9.8 m / s$^2$."
   ]
  },
  {
   "cell_type": "code",
   "execution_count": 6,
   "metadata": {
    "collapsed": true
   },
   "outputs": [],
   "source": [
    "g = 9.8 * m/s**2"
   ]
  },
  {
   "cell_type": "markdown",
   "metadata": {
    "collapsed": true
   },
   "source": [
    "When we call `odeint`, we need an array of timestamps where we want to compute the solution.\n",
    "\n",
    "I'll start with a duration of 10 seconds."
   ]
  },
  {
   "cell_type": "code",
   "execution_count": 7,
   "metadata": {},
   "outputs": [
    {
     "data": {
      "text/html": [
       "[  0.   5.  10.] second"
      ],
      "text/latex": [
       "$[  0.   5.  10.] second$"
      ],
      "text/plain": [
       "<Quantity([  0.   5.  10.], 'second')>"
      ]
     },
     "execution_count": 7,
     "metadata": {},
     "output_type": "execute_result"
    }
   ],
   "source": [
    "duration = 10 * s\n",
    "ts = linspace(0, duration, 3)\n",
    "ts"
   ]
  },
  {
   "cell_type": "markdown",
   "metadata": {
    "collapsed": true
   },
   "source": [
    "Now we make a `System` object."
   ]
  },
  {
   "cell_type": "code",
   "execution_count": 8,
   "metadata": {
    "collapsed": true
   },
   "outputs": [],
   "source": [
    "system = System(init=init, g=g, ts=ts)"
   ]
  },
  {
   "cell_type": "markdown",
   "metadata": {
    "collapsed": true
   },
   "source": [
    "And define the slope function."
   ]
  },
  {
   "cell_type": "code",
   "execution_count": 58,
   "metadata": {
    "collapsed": true
   },
   "outputs": [],
   "source": [
    "def slope_func(state, t, system):\n",
    "    \"\"\"Compute derivatives of the state.\n",
    "    \n",
    "    state: position, velocity\n",
    "    t: time\n",
    "    system: System object containing `g`\n",
    "    \n",
    "    returns: derivatives of y and v\n",
    "    \"\"\"\n",
    "    y, v = state\n",
    "    unpack(system)    \n",
    "\n",
    "    dydt = v\n",
    "    dvdt = -g\n",
    "    print(t)\n",
    "    \n",
    "    return dydt, dvdt"
   ]
  },
  {
   "cell_type": "markdown",
   "metadata": {
    "collapsed": true
   },
   "source": [
    "It's always a good idea to test the slope function with the initial conditions."
   ]
  },
  {
   "cell_type": "code",
   "execution_count": 59,
   "metadata": {},
   "outputs": [
    {
     "name": "stdout",
     "output_type": "stream",
     "text": [
      "0\n",
      "0.0 meter / second\n",
      "-9.8 meter / second ** 2\n"
     ]
    }
   ],
   "source": [
    "dydt, dvdt = slope_func(init, 0, system)\n",
    "print(dydt)\n",
    "print(dvdt)"
   ]
  },
  {
   "cell_type": "markdown",
   "metadata": {
    "collapsed": true
   },
   "source": [
    "Now we're ready to run `odeint`"
   ]
  },
  {
   "cell_type": "code",
   "execution_count": 60,
   "metadata": {},
   "outputs": [
    {
     "name": "stdout",
     "output_type": "stream",
     "text": [
      "0.0\n",
      "0.0\n",
      "1.1338885217053366e-05\n",
      "1.1338885217053366e-05\n",
      "2.2677770434106733e-05\n",
      "2.2677770434106733e-05\n",
      "0.11341152994096777\n",
      "0.22680038211150144\n",
      "0.3401892342820351\n",
      "1.474077755987372\n",
      "2.6079662776927086\n",
      "3.7418547993980456\n",
      "15.080740016451411\n",
      "26.419625233504778\n"
     ]
    }
   ],
   "source": [
    "run_odeint(system, slope_func)"
   ]
  },
  {
   "cell_type": "markdown",
   "metadata": {
    "collapsed": true
   },
   "source": [
    "Here's what the results look like."
   ]
  },
  {
   "cell_type": "code",
   "execution_count": 12,
   "metadata": {},
   "outputs": [
    {
     "data": {
      "text/html": [
       "<div>\n",
       "<style>\n",
       "    .dataframe thead tr:only-child th {\n",
       "        text-align: right;\n",
       "    }\n",
       "\n",
       "    .dataframe thead th {\n",
       "        text-align: left;\n",
       "    }\n",
       "\n",
       "    .dataframe tbody tr th {\n",
       "        vertical-align: top;\n",
       "    }\n",
       "</style>\n",
       "<table border=\"1\" class=\"dataframe\">\n",
       "  <thead>\n",
       "    <tr style=\"text-align: right;\">\n",
       "      <th></th>\n",
       "      <th>y</th>\n",
       "      <th>v</th>\n",
       "    </tr>\n",
       "  </thead>\n",
       "  <tbody>\n",
       "    <tr>\n",
       "      <th>0.0</th>\n",
       "      <td>381.0</td>\n",
       "      <td>0.0</td>\n",
       "    </tr>\n",
       "    <tr>\n",
       "      <th>5.0</th>\n",
       "      <td>258.5</td>\n",
       "      <td>-49.0</td>\n",
       "    </tr>\n",
       "    <tr>\n",
       "      <th>10.0</th>\n",
       "      <td>-109.0</td>\n",
       "      <td>-98.0</td>\n",
       "    </tr>\n",
       "  </tbody>\n",
       "</table>\n",
       "</div>"
      ],
      "text/plain": [
       "          y     v\n",
       "0.0   381.0   0.0\n",
       "5.0   258.5 -49.0\n",
       "10.0 -109.0 -98.0"
      ]
     },
     "execution_count": 12,
     "metadata": {},
     "output_type": "execute_result"
    }
   ],
   "source": [
    "system.results.head()"
   ]
  },
  {
   "cell_type": "code",
   "execution_count": 13,
   "metadata": {},
   "outputs": [
    {
     "data": {
      "text/html": [
       "<div>\n",
       "<style>\n",
       "    .dataframe thead tr:only-child th {\n",
       "        text-align: right;\n",
       "    }\n",
       "\n",
       "    .dataframe thead th {\n",
       "        text-align: left;\n",
       "    }\n",
       "\n",
       "    .dataframe tbody tr th {\n",
       "        vertical-align: top;\n",
       "    }\n",
       "</style>\n",
       "<table border=\"1\" class=\"dataframe\">\n",
       "  <thead>\n",
       "    <tr style=\"text-align: right;\">\n",
       "      <th></th>\n",
       "      <th>y</th>\n",
       "      <th>v</th>\n",
       "    </tr>\n",
       "  </thead>\n",
       "  <tbody>\n",
       "    <tr>\n",
       "      <th>0.0</th>\n",
       "      <td>381.0</td>\n",
       "      <td>0.0</td>\n",
       "    </tr>\n",
       "    <tr>\n",
       "      <th>5.0</th>\n",
       "      <td>258.5</td>\n",
       "      <td>-49.0</td>\n",
       "    </tr>\n",
       "    <tr>\n",
       "      <th>10.0</th>\n",
       "      <td>-109.0</td>\n",
       "      <td>-98.0</td>\n",
       "    </tr>\n",
       "  </tbody>\n",
       "</table>\n",
       "</div>"
      ],
      "text/plain": [
       "          y     v\n",
       "0.0   381.0   0.0\n",
       "5.0   258.5 -49.0\n",
       "10.0 -109.0 -98.0"
      ]
     },
     "execution_count": 13,
     "metadata": {},
     "output_type": "execute_result"
    }
   ],
   "source": [
    "system.results.tail()"
   ]
  },
  {
   "cell_type": "markdown",
   "metadata": {
    "collapsed": true
   },
   "source": [
    "The following function plots the results."
   ]
  },
  {
   "cell_type": "code",
   "execution_count": 14,
   "metadata": {
    "collapsed": true
   },
   "outputs": [],
   "source": [
    "def plot_position(results):\n",
    "    \"\"\"Plot the results.\n",
    "    \n",
    "    results: DataFrame with position, `y`\n",
    "    \"\"\"\n",
    "    newfig()\n",
    "    plot(results.y, label='y')\n",
    "        \n",
    "    decorate(xlabel='Time (s)',\n",
    "             ylabel='Position (m)')"
   ]
  },
  {
   "cell_type": "markdown",
   "metadata": {
    "collapsed": true
   },
   "source": [
    "Here's what it looks like."
   ]
  },
  {
   "cell_type": "code",
   "execution_count": 15,
   "metadata": {},
   "outputs": [
    {
     "name": "stdout",
     "output_type": "stream",
     "text": [
      "Saving figure to file chap09-fig01.pdf\n"
     ]
    },
    {
     "data": {
      "image/png": "[encoded data removed]",
      "text/plain": [
       "<matplotlib.figure.Figure at 0x20b56b21748>"
      ]
     },
     "metadata": {},
     "output_type": "display_data"
    }
   ],
   "source": [
    "plot_position(system.results)\n",
    "savefig('chap09-fig01.pdf')"
   ]
  },
  {
   "cell_type": "markdown",
   "metadata": {
    "collapsed": true
   },
   "source": [
    "**Exercise:** Add a print statement to `slope_func` to print the value of `t` each time it's called.  What can we infer about how `odeint` works, based on the results?"
   ]
  },
  {
   "cell_type": "markdown",
   "metadata": {
    "collapsed": true
   },
   "source": [
    "**Exercise:** Change the value of `dt` and run the solver again.  What effect does it have on the results?"
   ]
  },
  {
   "cell_type": "markdown",
   "metadata": {},
   "source": [
    "### Onto the sidewalk\n",
    "\n",
    "Here's the code again to set up the `System` object."
   ]
  },
  {
   "cell_type": "code",
   "execution_count": 18,
   "metadata": {
    "collapsed": true
   },
   "outputs": [],
   "source": [
    "def make_system(duration, v_init=30):\n",
    "    \"\"\"Make a system object.\n",
    "    \n",
    "    duration: time of simulation in seconds\n",
    "    v_init: initial velocity, dimensionless\n",
    "    \n",
    "    returns: System object\n",
    "    \"\"\"\n",
    "    init = State(y=381 * m, v=v_init * m / s)\n",
    "\n",
    "    g = 9.8 * m/s**2\n",
    "    ts = linspace(0, duration, 11)\n",
    "    return System(init=init, g=g, ts=ts)"
   ]
  },
  {
   "cell_type": "markdown",
   "metadata": {},
   "source": [
    "And run the simulation."
   ]
  },
  {
   "cell_type": "code",
   "execution_count": 19,
   "metadata": {
    "scrolled": true
   },
   "outputs": [
    {
     "name": "stdout",
     "output_type": "stream",
     "text": [
      "0.0\n",
      "0.0\n",
      "0.00011639293100247023\n",
      "0.00011639293100247023\n",
      "0.00023278586200494046\n",
      "0.00023278586200494046\n",
      "1.1641620958867074\n",
      "2.32809140591141\n",
      "3.4920207159361123\n",
      "15.131313816183136\n"
     ]
    },
    {
     "data": {
      "text/html": [
       "<div>\n",
       "<style>\n",
       "    .dataframe thead tr:only-child th {\n",
       "        text-align: right;\n",
       "    }\n",
       "\n",
       "    .dataframe thead th {\n",
       "        text-align: left;\n",
       "    }\n",
       "\n",
       "    .dataframe tbody tr th {\n",
       "        vertical-align: top;\n",
       "    }\n",
       "</style>\n",
       "<table border=\"1\" class=\"dataframe\">\n",
       "  <thead>\n",
       "    <tr style=\"text-align: right;\">\n",
       "      <th></th>\n",
       "      <th>y</th>\n",
       "      <th>v</th>\n",
       "    </tr>\n",
       "  </thead>\n",
       "  <tbody>\n",
       "    <tr>\n",
       "      <th>0.0</th>\n",
       "      <td>381.0</td>\n",
       "      <td>30.0</td>\n",
       "    </tr>\n",
       "    <tr>\n",
       "      <th>1.0</th>\n",
       "      <td>406.1</td>\n",
       "      <td>20.2</td>\n",
       "    </tr>\n",
       "    <tr>\n",
       "      <th>2.0</th>\n",
       "      <td>421.4</td>\n",
       "      <td>10.4</td>\n",
       "    </tr>\n",
       "    <tr>\n",
       "      <th>3.0</th>\n",
       "      <td>426.9</td>\n",
       "      <td>0.6</td>\n",
       "    </tr>\n",
       "    <tr>\n",
       "      <th>4.0</th>\n",
       "      <td>422.6</td>\n",
       "      <td>-9.2</td>\n",
       "    </tr>\n",
       "    <tr>\n",
       "      <th>5.0</th>\n",
       "      <td>408.5</td>\n",
       "      <td>-19.0</td>\n",
       "    </tr>\n",
       "    <tr>\n",
       "      <th>6.0</th>\n",
       "      <td>384.6</td>\n",
       "      <td>-28.8</td>\n",
       "    </tr>\n",
       "    <tr>\n",
       "      <th>7.0</th>\n",
       "      <td>350.9</td>\n",
       "      <td>-38.6</td>\n",
       "    </tr>\n",
       "    <tr>\n",
       "      <th>8.0</th>\n",
       "      <td>307.4</td>\n",
       "      <td>-48.4</td>\n",
       "    </tr>\n",
       "    <tr>\n",
       "      <th>9.0</th>\n",
       "      <td>254.1</td>\n",
       "      <td>-58.2</td>\n",
       "    </tr>\n",
       "    <tr>\n",
       "      <th>10.0</th>\n",
       "      <td>191.0</td>\n",
       "      <td>-68.0</td>\n",
       "    </tr>\n",
       "  </tbody>\n",
       "</table>\n",
       "</div>"
      ],
      "text/plain": [
       "          y     v\n",
       "0.0   381.0  30.0\n",
       "1.0   406.1  20.2\n",
       "2.0   421.4  10.4\n",
       "3.0   426.9   0.6\n",
       "4.0   422.6  -9.2\n",
       "5.0   408.5 -19.0\n",
       "6.0   384.6 -28.8\n",
       "7.0   350.9 -38.6\n",
       "8.0   307.4 -48.4\n",
       "9.0   254.1 -58.2\n",
       "10.0  191.0 -68.0"
      ]
     },
     "execution_count": 19,
     "metadata": {},
     "output_type": "execute_result"
    }
   ],
   "source": [
    "system = make_system(10)\n",
    "run_odeint(system, slope_func)\n",
    "system.results"
   ]
  },
  {
   "cell_type": "markdown",
   "metadata": {
    "collapsed": true
   },
   "source": [
    "To figure out when the penny hit the sidewalk, we use `interp_inverse`, which return a function that maps from height to time."
   ]
  },
  {
   "cell_type": "code",
   "execution_count": 20,
   "metadata": {
    "collapsed": true
   },
   "outputs": [],
   "source": [
    "y = system.results.y\n",
    "T = interp_inverse(y, kind='cubic')"
   ]
  },
  {
   "cell_type": "markdown",
   "metadata": {
    "collapsed": true
   },
   "source": [
    "`T(0)` interpolates the time when the height was 0."
   ]
  },
  {
   "cell_type": "code",
   "execution_count": 21,
   "metadata": {},
   "outputs": [
    {
     "data": {
      "text/plain": [
       "array(-538.1088025238901)"
      ]
     },
     "execution_count": 21,
     "metadata": {},
     "output_type": "execute_result"
    }
   ],
   "source": [
    "T_sidewalk = T(0)\n",
    "T_sidewalk"
   ]
  },
  {
   "cell_type": "markdown",
   "metadata": {
    "collapsed": true
   },
   "source": [
    "We can compare that to the exact result.  Without air resistance, we have\n",
    "\n",
    "$v = -g t$\n",
    "\n",
    "and\n",
    "\n",
    "$y = 381 - g t^2 / 2$\n",
    "\n",
    "Setting $y=0$ and solving for $t$ yields\n",
    "\n",
    "$t = \\sqrt{\\frac{2 y_{init}}{g}}$"
   ]
  },
  {
   "cell_type": "code",
   "execution_count": 22,
   "metadata": {},
   "outputs": [
    {
     "data": {
      "text/html": [
       "8.817885349720552 second"
      ],
      "text/latex": [
       "$8.817885349720552 second$"
      ],
      "text/plain": [
       "<Quantity(8.817885349720552, 'second')>"
      ]
     },
     "execution_count": 22,
     "metadata": {},
     "output_type": "execute_result"
    }
   ],
   "source": [
    "sqrt(2 * init.y / g)"
   ]
  },
  {
   "cell_type": "markdown",
   "metadata": {
    "collapsed": true
   },
   "source": [
    "The estimate is accurate to 4 decimal places."
   ]
  },
  {
   "cell_type": "markdown",
   "metadata": {
    "collapsed": true
   },
   "source": [
    "We can double-check by running the simulation for the estimated flight time."
   ]
  },
  {
   "cell_type": "code",
   "execution_count": 23,
   "metadata": {},
   "outputs": [
    {
     "name": "stdout",
     "output_type": "stream",
     "text": [
      "0.0\n",
      "0.0\n",
      "-0.0003854758248945784\n",
      "-0.0003854758248945784\n",
      "-0.0007709516497891568\n",
      "-0.0007709516497891568\n",
      "-3.8555292005955732\n",
      "-7.710287449541357\n",
      "-11.565045698487141\n",
      "-50.11262818794498\n",
      "-88.66021067740282\n",
      "-127.20779316686065\n",
      "-512.6836180614391\n",
      "-898.1594429560175\n"
     ]
    }
   ],
   "source": [
    "system = make_system(duration=T_sidewalk)\n",
    "run_odeint(system, slope_func)"
   ]
  },
  {
   "cell_type": "markdown",
   "metadata": {
    "collapsed": true
   },
   "source": [
    "And checking the final state."
   ]
  },
  {
   "cell_type": "code",
   "execution_count": 24,
   "metadata": {
    "collapsed": true
   },
   "outputs": [],
   "source": [
    "def final_state(results):\n",
    "    \"\"\"Returns the final position and velocity, with units.\n",
    "    \n",
    "    results: TimeFrame with y and v.\n",
    "    \n",
    "    returns: y, v at t_end\n",
    "    \"\"\"\n",
    "    t_end = results.index[-1]\n",
    "    y, v = results.loc[t_end]\n",
    "    return y*m, v*m/s"
   ]
  },
  {
   "cell_type": "markdown",
   "metadata": {
    "collapsed": true
   },
   "source": [
    "As expected, the final height is close to 0."
   ]
  },
  {
   "cell_type": "code",
   "execution_count": 25,
   "metadata": {},
   "outputs": [
    {
     "data": {
      "text/html": [
       "-1434611.5725102783 meter"
      ],
      "text/latex": [
       "$-1434611.5725102783 meter$"
      ],
      "text/plain": [
       "<Quantity(-1434611.5725102783, 'meter')>"
      ]
     },
     "execution_count": 25,
     "metadata": {},
     "output_type": "execute_result"
    }
   ],
   "source": [
    "y_final, v_final = final_state(system.results)\n",
    "y_final"
   ]
  },
  {
   "cell_type": "markdown",
   "metadata": {
    "collapsed": true
   },
   "source": [
    "And we can check the final velocity."
   ]
  },
  {
   "cell_type": "code",
   "execution_count": 26,
   "metadata": {},
   "outputs": [
    {
     "data": {
      "text/html": [
       "5303.466264734123 meter/second"
      ],
      "text/latex": [
       "$5303.466264734123 \\frac{meter}{second}$"
      ],
      "text/plain": [
       "<Quantity(5303.466264734123, 'meter / second')>"
      ]
     },
     "execution_count": 26,
     "metadata": {},
     "output_type": "execute_result"
    }
   ],
   "source": [
    "v_final"
   ]
  },
  {
   "cell_type": "markdown",
   "metadata": {
    "collapsed": true
   },
   "source": [
    "And convert to km/h"
   ]
  },
  {
   "cell_type": "code",
   "execution_count": 27,
   "metadata": {},
   "outputs": [
    {
     "data": {
      "text/html": [
       "19092.47855304284 kilometer/hour"
      ],
      "text/latex": [
       "$19092.47855304284 \\frac{kilometer}{hour}$"
      ],
      "text/plain": [
       "<Quantity(19092.47855304284, 'kilometer / hour')>"
      ]
     },
     "execution_count": 27,
     "metadata": {},
     "output_type": "execute_result"
    }
   ],
   "source": [
    "km = UNITS.kilometer\n",
    "h = UNITS.hour\n",
    "v_final.to(km / h)"
   ]
  },
  {
   "cell_type": "markdown",
   "metadata": {
    "collapsed": true
   },
   "source": [
    "If there were no air resistance, the penny would hit the sidewalk (or someone's head) at more than 300 km/h.\n",
    "\n",
    "So it's a good thing there is air resistance."
   ]
  },
  {
   "cell_type": "markdown",
   "metadata": {},
   "source": [
    "**Exercise:** Try changing the initial velocity and see what effect it has on the time to hot the sidewalk.  Sweep a range of values for the initial velocity, from 0 to 25 m/s, and plot `T_sidewalk` as a function of initial velocity.  You might find the following function useful.\n",
    "\n",
    "Things might go horribly wrong for the larger initial velocities.  What's going on?"
   ]
  },
  {
   "cell_type": "code",
   "execution_count": 29,
   "metadata": {
    "collapsed": true
   },
   "outputs": [],
   "source": [
    "def flight_time(system):\n",
    "    \"\"\"Simulates the system and computes flight time.\n",
    "    \n",
    "    Uses cubic interpolation.\n",
    "    \n",
    "    system: System object\n",
    "    \n",
    "    returns: flight time in seconds\n",
    "    \"\"\"\n",
    "    run_odeint(system, slope_func)\n",
    "    y = system.results.y\n",
    "    inverse = Series(y.index, index=y.values)\n",
    "    T = interpolate(inverse, kind='cubic')\n",
    "    T_sidewalk = T(0)\n",
    "    return T_sidewalk * s\n",
    "\n",
    "def make_system(duration, v_init):\n",
    "    \"\"\"Make a system object.\n",
    "    \n",
    "    duration: time of simulation in seconds\n",
    "    v_init: initial velocity, dimensionless\n",
    "    \n",
    "    returns: System object\n",
    "    \"\"\"\n",
    "    init = State(y=381 * m, v=v_init * m / s)\n",
    "\n",
    "    g = 9.8 * m/s**2\n",
    "    ts = linspace(0, duration, 11)\n",
    "    return System(init=init, g=g, ts=ts)"
   ]
  },
  {
   "cell_type": "code",
   "execution_count": 37,
   "metadata": {},
   "outputs": [
    {
     "name": "stdout",
     "output_type": "stream",
     "text": [
      "0.0\n",
      "0.0\n",
      "1.2391823754412774e-05\n",
      "1.2391823754412774e-05\n",
      "2.478364750882555e-05\n",
      "2.478364750882555e-05\n",
      "0.12394302119163657\n",
      "0.2478612587357643\n",
      "0.37177949627989204\n",
      "1.6109618717211696\n",
      "2.850144247162447\n",
      "4.089326622603725\n",
      "16.481150377016498\n",
      "0.0\n",
      "0.0\n",
      "1.2391823754412774e-05\n",
      "1.2391823754412774e-05\n",
      "2.478364750882555e-05\n",
      "2.478364750882555e-05\n",
      "0.12394302119163657\n",
      "0.2478612587357643\n",
      "0.37177949627989204\n",
      "1.6109618717211696\n",
      "2.850144247162447\n",
      "4.089326622603725\n",
      "16.481150377016498\n",
      "0.0\n",
      "0.0\n",
      "2.4896791953663964e-05\n",
      "2.4896791953663964e-05\n",
      "4.979358390732793e-05\n",
      "4.979358390732793e-05\n",
      "0.24901771312054696\n",
      "0.4979856326571866\n",
      "0.7469535521938262\n",
      "3.2366327475602223\n",
      "5.7263119429266185\n",
      "8.215991138293015\n",
      "33.11278309195698\n",
      "0.0\n",
      "0.0\n",
      "2.4896791953663964e-05\n",
      "2.4896791953663964e-05\n",
      "4.979358390732793e-05\n",
      "4.979358390732793e-05\n",
      "0.24901771312054696\n",
      "0.4979856326571866\n",
      "0.7469535521938262\n",
      "3.2366327475602223\n",
      "5.7263119429266185\n",
      "8.215991138293015\n",
      "33.11278309195698\n",
      "0.0\n",
      "0.0\n",
      "3.663601830428603e-05\n",
      "3.663601830428603e-05\n",
      "7.327203660857206e-05\n",
      "7.327203660857206e-05\n",
      "0.3664334550794689\n",
      "0.7327936381223292\n",
      "1.0991538211651894\n",
      "4.7627556515937925\n",
      "8.426357482022397\n",
      "12.089959312451\n",
      "0.0\n",
      "0.0\n",
      "3.663601830428603e-05\n",
      "3.663601830428603e-05\n",
      "7.327203660857206e-05\n",
      "7.327203660857206e-05\n",
      "0.3664334550794689\n",
      "0.7327936381223292\n",
      "1.0991538211651894\n",
      "4.7627556515937925\n",
      "8.426357482022397\n",
      "12.089959312451\n",
      "0.0\n",
      "0.0\n",
      "4.735746938113945e-05\n",
      "4.735746938113945e-05\n",
      "9.47149387622789e-05\n",
      "9.47149387622789e-05\n",
      "0.47366940875015684\n",
      "0.9472441025615514\n",
      "1.420818796372946\n",
      "6.156565734486891\n",
      "10.892312672600838\n",
      "0.0\n",
      "0.0\n",
      "4.735746938113945e-05\n",
      "4.735746938113945e-05\n",
      "9.47149387622789e-05\n",
      "9.47149387622789e-05\n",
      "0.47366940875015684\n",
      "0.9472441025615514\n",
      "1.420818796372946\n",
      "6.156565734486891\n",
      "10.892312672600838\n",
      "0.0\n",
      "0.0\n",
      "5.692956098744412e-05\n",
      "5.692956098744412e-05\n",
      "0.00011385912197488823\n",
      "0.00011385912197488823\n",
      "0.5694094689964161\n",
      "1.1387050788708573\n",
      "1.7080006887452983\n",
      "7.40095678748971\n",
      "13.093912886234122\n",
      "0.0\n",
      "0.0\n",
      "5.692956098744412e-05\n",
      "5.692956098744412e-05\n",
      "0.00011385912197488823\n",
      "0.00011385912197488823\n",
      "0.5694094689964161\n",
      "1.1387050788708573\n",
      "1.7080006887452983\n",
      "7.40095678748971\n",
      "13.093912886234122\n",
      "0.0\n",
      "0.0\n",
      "6.532657605389964e-05\n",
      "6.532657605389964e-05\n",
      "0.00013065315210779928\n",
      "0.00013065315210779928\n",
      "0.6533964136911042\n",
      "1.3066621742301008\n",
      "1.9599279347690972\n",
      "8.492585540159062\n",
      "15.025243145549027\n",
      "0.0\n",
      "0.0\n",
      "6.532657605389964e-05\n",
      "6.532657605389964e-05\n",
      "0.00013065315210779928\n",
      "0.00013065315210779928\n",
      "0.6533964136911042\n",
      "1.3066621742301008\n",
      "1.9599279347690972\n",
      "8.492585540159062\n",
      "15.025243145549027\n",
      "0.0\n",
      "0.0\n",
      "7.259982444779122e-05\n",
      "7.259982444779122e-05\n",
      "0.00014519964889558244\n",
      "0.00014519964889558244\n",
      "0.7261434441268078\n",
      "1.45214168860472\n",
      "2.1781399330826323\n",
      "9.438122377861754\n",
      "16.698104822640875\n",
      "0.0\n",
      "0.0\n",
      "7.259982444779122e-05\n",
      "7.259982444779122e-05\n",
      "0.00014519964889558244\n",
      "0.00014519964889558244\n",
      "0.7261434441268078\n",
      "1.45214168860472\n",
      "2.1781399330826323\n",
      "9.438122377861754\n",
      "16.698104822640875\n",
      "0.0\n",
      "0.0\n",
      "7.884692160932036e-05\n",
      "7.884692160932036e-05\n",
      "0.00015769384321864073\n",
      "0.00015769384321864073\n",
      "0.7886269099364223\n",
      "1.577096126029626\n",
      "2.3655653421228298\n",
      "10.250257503054867\n",
      "0.0\n",
      "0.0\n",
      "7.884692160932036e-05\n",
      "7.884692160932036e-05\n",
      "0.00015769384321864073\n",
      "0.00015769384321864073\n",
      "0.7886269099364223\n",
      "1.577096126029626\n",
      "2.3655653421228298\n",
      "10.250257503054867\n",
      "0.0\n",
      "0.0\n",
      "8.418653203441138e-05\n",
      "8.418653203441138e-05\n",
      "0.00016837306406882277\n",
      "0.00016837306406882277\n",
      "0.8420336934081827\n",
      "1.6838990137522964\n",
      "2.52576433409641\n",
      "10.944417537537548\n",
      "0.0\n",
      "0.0\n",
      "8.418653203441138e-05\n",
      "8.418653203441138e-05\n",
      "0.00016837306406882277\n",
      "0.00016837306406882277\n",
      "0.8420336934081827\n",
      "1.6838990137522964\n",
      "2.52576433409641\n",
      "10.944417537537548\n",
      "0.0\n",
      "0.0\n",
      "8.874090792985626e-05\n",
      "8.874090792985626e-05\n",
      "0.00017748181585971253\n",
      "0.00017748181585971253\n",
      "0.8875865611144224\n",
      "1.774995640412985\n",
      "2.6624047197115477\n",
      "11.536495512697174\n",
      "0.0\n",
      "0.0\n",
      "8.874090792985626e-05\n",
      "8.874090792985626e-05\n",
      "0.00017748181585971253\n",
      "0.00017748181585971253\n",
      "0.8875865611144224\n",
      "1.774995640412985\n",
      "2.6624047197115477\n",
      "11.536495512697174\n",
      "0.0\n",
      "0.0\n",
      "9.262551778471731e-05\n",
      "9.262551778471731e-05\n",
      "0.00018525103556943462\n",
      "0.00018525103556943462\n",
      "0.9264404288827426\n",
      "0.9264404288827426\n",
      "1.8526956067299158\n",
      "2.778950784577089\n",
      "12.041502563048821\n",
      "0.0\n",
      "0.0\n",
      "9.262551778471731e-05\n",
      "9.262551778471731e-05\n",
      "0.00018525103556943462\n",
      "0.00018525103556943462\n",
      "0.9264404288827426\n",
      "0.9264404288827426\n",
      "1.8526956067299158\n",
      "2.778950784577089\n",
      "12.041502563048821\n",
      "0.0\n",
      "0.0\n",
      "9.594392324775579e-05\n",
      "9.594392324775579e-05\n",
      "0.00019188784649551159\n",
      "0.00019188784649551159\n",
      "0.9596311203240534\n",
      "0.9596311203240534\n",
      "1.9190703528016113\n",
      "2.8785095852791693\n",
      "12.472901910054748\n",
      "0.0\n",
      "0.0\n",
      "9.594392324775579e-05\n",
      "9.594392324775579e-05\n",
      "0.00019188784649551159\n",
      "0.00019188784649551159\n",
      "0.9596311203240534\n",
      "0.9596311203240534\n",
      "1.9190703528016113\n",
      "2.8785095852791693\n",
      "12.472901910054748\n",
      "0.0\n",
      "0.0\n",
      "9.878604309223388e-05\n",
      "9.878604309223388e-05\n",
      "0.00019757208618446776\n",
      "0.00019757208618446776\n",
      "0.9880580030085232\n",
      "0.9880580030085232\n",
      "1.975918433930862\n",
      "2.9637788648532006\n",
      "12.842383174076588\n",
      "0.0\n",
      "0.0\n",
      "9.878604309223388e-05\n",
      "9.878604309223388e-05\n",
      "0.00019757208618446776\n",
      "0.00019757208618446776\n",
      "0.9880580030085232\n",
      "0.9880580030085232\n",
      "1.975918433930862\n",
      "2.9637788648532006\n",
      "12.842383174076588\n",
      "0.0\n",
      "0.0\n",
      "0.00010122835932852023\n",
      "0.00010122835932852023\n",
      "0.00020245671865704045\n",
      "0.00020245671865704045\n",
      "1.0124860500038595\n",
      "2.024769643289062\n",
      "3.0370532365742644\n",
      "13.159889169426288\n",
      "0.0\n",
      "0.0\n",
      "0.00010122835932852023\n",
      "0.00010122835932852023\n",
      "0.00020245671865704045\n",
      "0.00020245671865704045\n",
      "1.0124860500038595\n",
      "2.024769643289062\n",
      "3.0370532365742644\n",
      "13.159889169426288\n",
      "0.0\n",
      "0.0\n",
      "0.00010333509311540043\n",
      "0.00010333509311540043\n",
      "0.00020667018623080085\n",
      "0.00020667018623080085\n",
      "1.0335576013402352\n",
      "1.0335576013402352\n",
      "2.0669085324942396\n",
      "3.1002594636482437\n",
      "13.433768775188287\n",
      "0.0\n",
      "0.0\n",
      "0.00010333509311540043\n",
      "0.00010333509311540043\n",
      "0.00020667018623080085\n",
      "0.00020667018623080085\n",
      "1.0335576013402352\n",
      "1.0335576013402352\n",
      "2.0669085324942396\n",
      "3.1002594636482437\n",
      "13.433768775188287\n",
      "0.0\n",
      "0.0\n",
      "0.000105159759189139\n",
      "0.000105159759189139\n",
      "0.000210319518378278\n",
      "0.000210319518378278\n",
      "1.0518079114097683\n",
      "1.0518079114097683\n",
      "2.1034055033011585\n",
      "3.1550030951925487\n",
      "13.67097901410645\n",
      "0.0\n",
      "0.0\n",
      "0.000105159759189139\n",
      "0.000105159759189139\n",
      "0.000210319518378278\n",
      "0.000210319518378278\n",
      "1.0518079114097683\n",
      "1.0518079114097683\n",
      "2.1034055033011585\n",
      "3.1550030951925487\n",
      "13.67097901410645\n",
      "0.0\n",
      "0.0\n",
      "0.00010674677059178289\n",
      "0.00010674677059178289\n",
      "0.00021349354118356577\n",
      "0.00021349354118356577\n",
      "1.0676811994590123\n",
      "1.0676811994590123\n",
      "2.135148905376841\n",
      "3.20261661129467\n",
      "13.877293670472959\n",
      "0.0\n",
      "0.0\n",
      "0.00010674677059178289\n",
      "0.00010674677059178289\n",
      "0.00021349354118356577\n",
      "0.00021349354118356577\n",
      "1.0676811994590123\n",
      "1.0676811994590123\n",
      "2.135148905376841\n",
      "3.20261661129467\n",
      "13.877293670472959\n",
      "0.0\n",
      "0.0\n",
      "0.00010813293036869638\n",
      "0.00010813293036869638\n",
      "0.00021626586073739275\n",
      "0.00021626586073739275\n",
      "1.0815455695477012\n",
      "1.0815455695477012\n",
      "2.162874873234665\n",
      "3.2442041769216288\n",
      "14.057497213791267\n",
      "0.0\n",
      "0.0\n",
      "0.00010813293036869638\n",
      "0.00010813293036869638\n",
      "0.00021626586073739275\n",
      "0.00021626586073739275\n",
      "1.0815455695477012\n",
      "1.0815455695477012\n",
      "2.162874873234665\n",
      "3.2442041769216288\n",
      "14.057497213791267\n",
      "0.0\n",
      "0.0\n",
      "0.0001093487428670949\n",
      "0.0001093487428670949\n",
      "0.0002186974857341898\n",
      "0.0002186974857341898\n",
      "1.0937061261566832\n",
      "2.1871935548276324\n",
      "3.2806809834985815\n",
      "14.215555270208071\n",
      "0.0\n",
      "0.0\n",
      "0.0001093487428670949\n",
      "0.0001093487428670949\n",
      "0.0002186974857341898\n",
      "0.0002186974857341898\n",
      "1.0937061261566832\n",
      "2.1871935548276324\n",
      "3.2806809834985815\n",
      "14.215555270208071\n",
      "0.0\n",
      "0.0\n",
      "0.00011041952925928077\n",
      "0.00011041952925928077\n",
      "0.00022083905851856154\n",
      "0.00022083905851856154\n",
      "1.1044161316513263\n",
      "1.1044161316513263\n",
      "2.2086114242441344\n",
      "3.312806716836942\n",
      "14.35475964276502\n",
      "0.0\n",
      "0.0\n",
      "0.00011041952925928077\n",
      "0.00011041952925928077\n",
      "0.00022083905851856154\n",
      "0.00022083905851856154\n",
      "1.1044161316513263\n",
      "1.1044161316513263\n",
      "2.2086114242441344\n",
      "3.312806716836942\n",
      "14.35475964276502\n",
      "0.0\n",
      "0.0\n",
      "0.0001113663576586547\n",
      "0.0001113663576586547\n",
      "0.0002227327153173094\n",
      "0.0002227327153173094\n",
      "1.1138863093018643\n",
      "1.1138863093018643\n",
      "2.2275498858884113\n",
      "3.3412134624749585\n",
      "14.477849228340428\n",
      "0.0\n",
      "0.0\n",
      "0.0001113663576586547\n",
      "0.0001113663576586547\n",
      "0.0002227327153173094\n",
      "0.0002227327153173094\n",
      "1.1138863093018643\n",
      "1.1138863093018643\n",
      "2.2275498858884113\n",
      "3.3412134624749585\n",
      "14.477849228340428\n",
      "0.0\n",
      "0.0\n",
      "0.00011220680912032983\n",
      "0.00011220680912032983\n",
      "0.00022441361824065967\n",
      "0.00022441361824065967\n",
      "1.1222925048215389\n",
      "1.1222925048215389\n",
      "2.244360596024837\n",
      "3.3664286872281353\n",
      "14.587109599261117\n",
      "0.0\n",
      "0.0\n",
      "0.00011220680912032983\n",
      "0.00011220680912032983\n",
      "0.00022441361824065967\n",
      "0.00022441361824065967\n",
      "1.1222925048215389\n",
      "1.1222925048215389\n",
      "2.244360596024837\n",
      "3.3664286872281353\n",
      "14.587109599261117\n",
      "0.0\n",
      "0.0\n",
      "0.00011295560384472229\n",
      "0.00011295560384472229\n",
      "0.00022591120768944458\n",
      "0.00022591120768944458\n",
      "1.1297819496549124\n",
      "1.1297819496549124\n",
      "2.2593379881021356\n",
      "3.388894026549359\n",
      "14.684454411021589\n",
      "0.0\n",
      "0.0\n",
      "0.00011295560384472229\n",
      "0.00011295560384472229\n",
      "0.00022591120768944458\n",
      "0.00022591120768944458\n",
      "1.1297819496549124\n",
      "1.1297819496549124\n",
      "2.2593379881021356\n",
      "3.388894026549359\n",
      "14.684454411021589\n",
      "0.0\n",
      "0.0\n",
      "0.00011362511103261959\n",
      "0.00011362511103261959\n",
      "0.00022725022206523918\n",
      "0.00022725022206523918\n",
      "1.1364783605482611\n",
      "1.1364783605482611\n",
      "2.2727294708744568\n",
      "3.4089805812006526\n",
      "14.77149168446261\n",
      "0.0\n",
      "0.0\n",
      "0.00011362511103261959\n",
      "0.00011362511103261959\n",
      "0.00022725022206523918\n",
      "0.00022725022206523918\n",
      "1.1364783605482611\n",
      "1.1364783605482611\n",
      "2.2727294708744568\n",
      "3.4089805812006526\n",
      "14.77149168446261\n",
      "0.0\n",
      "0.0\n",
      "0.00011422576328790598\n",
      "0.00011422576328790598\n",
      "0.00022845152657581196\n",
      "0.00022845152657581196\n",
      "1.1424860844056357\n",
      "2.2847437172846954\n",
      "3.4270013501637555\n",
      "14.849577678954354\n",
      "0.0\n",
      "0.0\n",
      "0.00011422576328790598\n",
      "0.00011422576328790598\n",
      "0.00022845152657581196\n",
      "0.00022845152657581196\n",
      "1.1424860844056357\n",
      "2.2847437172846954\n",
      "3.4270013501637555\n",
      "14.849577678954354\n"
     ]
    },
    {
     "data": {
      "image/png": "[encoded data removed]",
      "text/plain": [
       "<matplotlib.figure.Figure at 0x20b57685c50>"
      ]
     },
     "metadata": {},
     "output_type": "display_data"
    }
   ],
   "source": [
    "# Solution goes here\n",
    "ts_array = linspace(0,25,25)\n",
    "for ts in ts_array:\n",
    "    system = make_system(10,ts)\n",
    "    run_odeint(system, slope_func)\n",
    "    T_sidewalk = flight_time(system)\n",
    "    plot(T_sidewalk,'b-')"
   ]
  },
  {
   "cell_type": "markdown",
   "metadata": {},
   "source": [
    "### With air resistance"
   ]
  },
  {
   "cell_type": "markdown",
   "metadata": {},
   "source": [
    "Next we'll add air resistance using the [drag equation](https://en.wikipedia.org/wiki/Drag_equation)\n",
    "\n",
    "First I'll create a `Condition` object to contain the quantities we'll need."
   ]
  },
  {
   "cell_type": "code",
   "execution_count": 64,
   "metadata": {
    "collapsed": true
   },
   "outputs": [],
   "source": [
    "condition = Condition(height = 381 * m,\n",
    "                      v_init = 0 * m / s,\n",
    "                      g = 9.8 * m/s**2,\n",
    "                      mass = 2.5e-3 * kg,\n",
    "                      diameter = 19e-3 * m,\n",
    "                      rho = 1.2 * kg/m**3,\n",
    "                      v_term = 18 * m / s,\n",
    "                      duration = 30 * s)"
   ]
  },
  {
   "cell_type": "markdown",
   "metadata": {
    "collapsed": true
   },
   "source": [
    "Now here's a version of `make_system` that takes a `Condition` object as a parameter.\n",
    "\n",
    "`make_system` uses the given value of `v_term` to compute the drag coefficient `C_d`."
   ]
  },
  {
   "cell_type": "code",
   "execution_count": 65,
   "metadata": {
    "collapsed": true
   },
   "outputs": [],
   "source": [
    "def make_system(condition):\n",
    "    \"\"\"Makes a System object for the given conditions.\n",
    "    \n",
    "    condition: Condition with height, g, mass, diameter, \n",
    "               rho, v_term, and duration\n",
    "    \n",
    "    returns: System with init, g, mass, rho, C_d, area, and ts\n",
    "    \"\"\"\n",
    "    unpack(condition)\n",
    "    \n",
    "    init = State(y=height, v=v_init)\n",
    "    area = np.pi * (diameter/2)**2\n",
    "    C_d = 2 * mass * g / (rho * area * v_term**2)\n",
    "    ts = linspace(0, duration, 101)\n",
    "    \n",
    "    return System(init=init, g=g, mass=mass, rho=rho,\n",
    "                  C_d=C_d, area=area, ts=ts)"
   ]
  },
  {
   "cell_type": "markdown",
   "metadata": {
    "collapsed": true
   },
   "source": [
    "Let's make a `System`"
   ]
  },
  {
   "cell_type": "code",
   "execution_count": 66,
   "metadata": {},
   "outputs": [
    {
     "data": {
      "text/html": [
       "<div>\n",
       "<style>\n",
       "    .dataframe thead tr:only-child th {\n",
       "        text-align: right;\n",
       "    }\n",
       "\n",
       "    .dataframe thead th {\n",
       "        text-align: left;\n",
       "    }\n",
       "\n",
       "    .dataframe tbody tr th {\n",
       "        vertical-align: top;\n",
       "    }\n",
       "</style>\n",
       "<table border=\"1\" class=\"dataframe\">\n",
       "  <thead>\n",
       "    <tr style=\"text-align: right;\">\n",
       "      <th></th>\n",
       "      <th>value</th>\n",
       "    </tr>\n",
       "  </thead>\n",
       "  <tbody>\n",
       "    <tr>\n",
       "      <th>init</th>\n",
       "      <td>y             381 meter\n",
       "v    0.0 meter / secon...</td>\n",
       "    </tr>\n",
       "    <tr>\n",
       "      <th>g</th>\n",
       "      <td>9.8 meter / second ** 2</td>\n",
       "    </tr>\n",
       "    <tr>\n",
       "      <th>mass</th>\n",
       "      <td>0.0025 kilogram</td>\n",
       "    </tr>\n",
       "    <tr>\n",
       "      <th>rho</th>\n",
       "      <td>1.2 kilogram / meter ** 3</td>\n",
       "    </tr>\n",
       "    <tr>\n",
       "      <th>C_d</th>\n",
       "      <td>0.4445009981135434 dimensionless</td>\n",
       "    </tr>\n",
       "    <tr>\n",
       "      <th>area</th>\n",
       "      <td>0.0002835287369864788 meter ** 2</td>\n",
       "    </tr>\n",
       "    <tr>\n",
       "      <th>ts</th>\n",
       "      <td>[0.0 second, 0.3 second, 0.6 second, 0.8999999...</td>\n",
       "    </tr>\n",
       "  </tbody>\n",
       "</table>\n",
       "</div>"
      ],
      "text/plain": [
       "init    y             381 meter\n",
       "v    0.0 meter / secon...\n",
       "g                                 9.8 meter / second ** 2\n",
       "mass                                      0.0025 kilogram\n",
       "rho                             1.2 kilogram / meter ** 3\n",
       "C_d                      0.4445009981135434 dimensionless\n",
       "area                     0.0002835287369864788 meter ** 2\n",
       "ts      [0.0 second, 0.3 second, 0.6 second, 0.8999999...\n",
       "dtype: object"
      ]
     },
     "execution_count": 66,
     "metadata": {},
     "output_type": "execute_result"
    }
   ],
   "source": [
    "system = make_system(condition)\n",
    "system"
   ]
  },
  {
   "cell_type": "markdown",
   "metadata": {
    "collapsed": true
   },
   "source": [
    "Here's the slope function, including acceleration due to gravity and drag."
   ]
  },
  {
   "cell_type": "code",
   "execution_count": 67,
   "metadata": {
    "collapsed": true
   },
   "outputs": [],
   "source": [
    "def slope_func(state, t, system):\n",
    "    \"\"\"Compute derivatives of the state.\n",
    "    \n",
    "    state: position, velocity\n",
    "    t: time\n",
    "    system: System object containing g, rho,\n",
    "            C_d, area, and mass\n",
    "    \n",
    "    returns: derivatives of y and v\n",
    "    \"\"\"\n",
    "    y, v = state\n",
    "    unpack(system)\n",
    "    \n",
    "    f_drag = rho * v**2 * C_d * area / 2\n",
    "    a_drag = f_drag / mass\n",
    "    \n",
    "    dydt = v\n",
    "    dvdt = -g + a_drag\n",
    "    \n",
    "    return dydt, dvdt"
   ]
  },
  {
   "cell_type": "markdown",
   "metadata": {
    "collapsed": true
   },
   "source": [
    "As always, let's test the slope function with the initial conditions."
   ]
  },
  {
   "cell_type": "code",
   "execution_count": 68,
   "metadata": {},
   "outputs": [
    {
     "data": {
      "text/plain": [
       "(<Quantity(0.0, 'meter / second')>, <Quantity(-9.8, 'meter / second ** 2')>)"
      ]
     },
     "execution_count": 68,
     "metadata": {},
     "output_type": "execute_result"
    }
   ],
   "source": [
    "slope_func(system.init, 0, system)"
   ]
  },
  {
   "cell_type": "markdown",
   "metadata": {
    "collapsed": true
   },
   "source": [
    "And then run the simulation."
   ]
  },
  {
   "cell_type": "code",
   "execution_count": 69,
   "metadata": {
    "collapsed": true
   },
   "outputs": [],
   "source": [
    "run_odeint(system, slope_func)"
   ]
  },
  {
   "cell_type": "markdown",
   "metadata": {
    "collapsed": true
   },
   "source": [
    "First check that the simulation ran long enough for the penny to land."
   ]
  },
  {
   "cell_type": "code",
   "execution_count": 70,
   "metadata": {},
   "outputs": [
    {
     "data": {
      "text/plain": [
       "(<Quantity(-136.083704279796, 'meter')>,\n",
       " <Quantity(-18.00000000087864, 'meter / second')>)"
      ]
     },
     "execution_count": 70,
     "metadata": {},
     "output_type": "execute_result"
    }
   ],
   "source": [
    "final_state(system.results)"
   ]
  },
  {
   "cell_type": "markdown",
   "metadata": {
    "collapsed": true
   },
   "source": [
    "Then compute the flight time."
   ]
  },
  {
   "cell_type": "code",
   "execution_count": 71,
   "metadata": {},
   "outputs": [
    {
     "data": {
      "text/plain": [
       "array(22.439794207078908)"
      ]
     },
     "execution_count": 71,
     "metadata": {},
     "output_type": "execute_result"
    }
   ],
   "source": [
    "y = system.results.y\n",
    "inverse = Series(y.index, index=y.values)\n",
    "T = interpolate(inverse, kind='cubic')\n",
    "T_sidewalk = T(0)\n",
    "T_sidewalk"
   ]
  },
  {
   "cell_type": "markdown",
   "metadata": {
    "collapsed": true
   },
   "source": [
    "Setting the duration to the computed flight time, we can check the final conditions."
   ]
  },
  {
   "cell_type": "code",
   "execution_count": 72,
   "metadata": {
    "collapsed": true
   },
   "outputs": [],
   "source": [
    "condition.set(duration=T_sidewalk)\n",
    "system = make_system(condition)\n",
    "run_odeint(system, slope_func)\n",
    "y_final, v_final = final_state(system.results)"
   ]
  },
  {
   "cell_type": "markdown",
   "metadata": {
    "collapsed": true
   },
   "source": [
    "The final height is close to 0, as expected.  And the final velocity is close to the given terminal velocity."
   ]
  },
  {
   "cell_type": "code",
   "execution_count": 73,
   "metadata": {},
   "outputs": [
    {
     "data": {
      "text/plain": [
       "(<Quantity(1.2732392917769175e-10, 'meter')>,\n",
       " <Quantity(-18.00000000874157, 'meter / second')>)"
      ]
     },
     "execution_count": 73,
     "metadata": {},
     "output_type": "execute_result"
    }
   ],
   "source": [
    "y_final, v_final"
   ]
  },
  {
   "cell_type": "markdown",
   "metadata": {
    "collapsed": true
   },
   "source": [
    "Here's the plot of position as a function of time."
   ]
  },
  {
   "cell_type": "code",
   "execution_count": 74,
   "metadata": {},
   "outputs": [
    {
     "name": "stdout",
     "output_type": "stream",
     "text": [
      "Saving figure to file chap09-fig02.pdf\n"
     ]
    },
    {
     "data": {
      "image/png": "[encoded data removed]",
      "text/plain": [
       "<matplotlib.figure.Figure at 0x20b58c32c18>"
      ]
     },
     "metadata": {},
     "output_type": "display_data"
    }
   ],
   "source": [
    "plot_position(system.results)\n",
    "savefig('chap09-fig02.pdf')"
   ]
  },
  {
   "cell_type": "markdown",
   "metadata": {},
   "source": [
    "And velocity as a function of time:"
   ]
  },
  {
   "cell_type": "code",
   "execution_count": 75,
   "metadata": {
    "collapsed": true
   },
   "outputs": [],
   "source": [
    "def plot_velocity(results):\n",
    "    \"\"\"Plot the results.\n",
    "    \n",
    "    results: DataFrame with velocity, v\n",
    "    \"\"\"\n",
    "    newfig()\n",
    "    plot(results.v, label='v')\n",
    "        \n",
    "    decorate(xlabel='Time (s)',\n",
    "             ylabel='Velocity (m/2)')"
   ]
  },
  {
   "cell_type": "code",
   "execution_count": 76,
   "metadata": {},
   "outputs": [
    {
     "data": {
      "image/png": "[encoded data removed]",
      "text/plain": [
       "<matplotlib.figure.Figure at 0x20b58c8d080>"
      ]
     },
     "metadata": {},
     "output_type": "display_data"
    }
   ],
   "source": [
    "plot_velocity(system.results)"
   ]
  },
  {
   "cell_type": "markdown",
   "metadata": {
    "collapsed": true
   },
   "source": [
    "From an initial velocity of 0, the penny accelerates downward until it reaches terminal velocity; after that, velocity is constant."
   ]
  },
  {
   "cell_type": "markdown",
   "metadata": {},
   "source": [
    "**Exercise:** Run the simulation with an initial velocity, downward, that exceeds the penny's terminal velocity.  Hint: use `condition.set`.\n",
    "\n",
    "What do you expect to happen?  Plot velocity and position as a function of time, and see if they are consistent with your prediction."
   ]
  },
  {
   "cell_type": "code",
   "execution_count": 78,
   "metadata": {},
   "outputs": [
    {
     "data": {
      "image/png": "[encoded data removed]",
      "text/plain": [
       "<matplotlib.figure.Figure at 0x20b58e54828>"
      ]
     },
     "metadata": {},
     "output_type": "display_data"
    },
    {
     "data": {
      "image/png": "[encoded data removed]",
      "text/plain": [
       "<matplotlib.figure.Figure at 0x20b58df8128>"
      ]
     },
     "metadata": {},
     "output_type": "display_data"
    }
   ],
   "source": [
    "# Solution goes here\n",
    "condition.set(v_init=-20*m/s)\n",
    "# system=make_system(condition)\n",
    "run_odeint(system, slope_func)\n",
    "plot_position(system.results)\n",
    "plot_velocity(system.results)"
   ]
  },
  {
   "cell_type": "code",
   "execution_count": 62,
   "metadata": {
    "collapsed": true,
    "scrolled": false
   },
   "outputs": [],
   "source": [
    "# Solution goes here"
   ]
  },
  {
   "cell_type": "markdown",
   "metadata": {},
   "source": [
    "### Dropping quarters"
   ]
  },
  {
   "cell_type": "markdown",
   "metadata": {},
   "source": [
    "Suppose we drop a quarter from the Empire State Building and find that its flight time is 19.1 seconds.  We can use this measurement to estimate the coefficient of drag.\n",
    "\n",
    "Here's a `Condition` object with the relevant parameters from\n",
    "https://en.wikipedia.org/wiki/Quarter_(United_States_coin)\n"
   ]
  },
  {
   "cell_type": "code",
   "execution_count": 41,
   "metadata": {
    "collapsed": true
   },
   "outputs": [],
   "source": [
    "condition = Condition(height = 381 * m,\n",
    "                      v_init = 0 * m / s,\n",
    "                      g = 9.8 * m/s**2,\n",
    "                      mass = 5.67e-3 * kg,\n",
    "                      diameter = 24.26e-3 * m,\n",
    "                      rho = 1.2 * kg/m**3,\n",
    "                      duration = 19.1 * s)"
   ]
  },
  {
   "cell_type": "markdown",
   "metadata": {},
   "source": [
    "And here's a modified version of `make_system`"
   ]
  },
  {
   "cell_type": "code",
   "execution_count": 42,
   "metadata": {
    "collapsed": true
   },
   "outputs": [],
   "source": [
    "def make_system(condition):\n",
    "    \"\"\"Makes a System object for the given conditions.\n",
    "    \n",
    "    condition: Condition with height, v_init, g, mass, diameter, \n",
    "               rho, C_d, and duration\n",
    "    \n",
    "    returns: System with init, g, mass, rho, C_d, area, and ts\n",
    "    \"\"\"\n",
    "    unpack(condition)\n",
    "    \n",
    "    init = State(y=height, v=v_init)\n",
    "    area = np.pi * (diameter/2)**2\n",
    "    ts = linspace(0, duration, 101)\n",
    "    \n",
    "    return System(init=init, g=g, mass=mass, rho=rho,\n",
    "                  C_d=C_d, area=area, ts=ts)"
   ]
  },
  {
   "cell_type": "markdown",
   "metadata": {},
   "source": [
    "We can run the simulation with an initial guess of `C_d=0.4`."
   ]
  },
  {
   "cell_type": "code",
   "execution_count": 43,
   "metadata": {
    "collapsed": true
   },
   "outputs": [],
   "source": [
    "condition.set(C_d=0.4)\n",
    "system = make_system(condition)\n",
    "run_odeint(system, slope_func)\n",
    "plot_position(system.results)"
   ]
  },
  {
   "cell_type": "markdown",
   "metadata": {},
   "source": [
    "The final height is -11 meters, which means our guess was too low (we need more drag to slow the quarter down)."
   ]
  },
  {
   "cell_type": "code",
   "execution_count": 44,
   "metadata": {
    "collapsed": true
   },
   "outputs": [],
   "source": [
    "final_state(system.results)"
   ]
  },
  {
   "cell_type": "markdown",
   "metadata": {},
   "source": [
    "`height_func` takes a hypothetical value of `C_d` and returns the height after 19.1 seconds."
   ]
  },
  {
   "cell_type": "code",
   "execution_count": 45,
   "metadata": {
    "collapsed": true
   },
   "outputs": [],
   "source": [
    "def height_func(C_d, condition):\n",
    "    \"\"\"Final height as a function of C_d.\n",
    "    \n",
    "    C_d: drag coefficient\n",
    "    condition: Condition object\n",
    "    \n",
    "    returns: height in m\n",
    "    \"\"\"\n",
    "    condition.set(C_d=C_d)\n",
    "    system = make_system(condition)\n",
    "    run_odeint(system, slope_func)\n",
    "    y, v = final_state(system.results)\n",
    "    return y"
   ]
  },
  {
   "cell_type": "markdown",
   "metadata": {},
   "source": [
    "If we run it with `C_d=0.4`, we get -11 meters again."
   ]
  },
  {
   "cell_type": "code",
   "execution_count": 46,
   "metadata": {
    "collapsed": true
   },
   "outputs": [],
   "source": [
    "height_func(0.4, condition)"
   ]
  },
  {
   "cell_type": "markdown",
   "metadata": {},
   "source": [
    "Now we can use `fsolve` to find the value of `C_d` that makes the final height 0."
   ]
  },
  {
   "cell_type": "code",
   "execution_count": 47,
   "metadata": {
    "collapsed": true
   },
   "outputs": [],
   "source": [
    "solution = fsolve(height_func, 0.4, condition)\n",
    "solution"
   ]
  },
  {
   "cell_type": "markdown",
   "metadata": {},
   "source": [
    "Plugging in the estimated value, we can run the simulation again to get terminal velocity."
   ]
  },
  {
   "cell_type": "code",
   "execution_count": 48,
   "metadata": {
    "collapsed": true
   },
   "outputs": [],
   "source": [
    "condition.set(C_d=solution)\n",
    "system = make_system(condition)\n",
    "run_odeint(system, slope_func)\n",
    "final_state(system.results)"
   ]
  },
  {
   "cell_type": "markdown",
   "metadata": {},
   "source": [
    "In this example, the terminal velocity of the quarter is higher than that of the penny, but we should not take this result seriously because the measurements we used are not real; I made them up."
   ]
  },
  {
   "cell_type": "code",
   "execution_count": null,
   "metadata": {
    "collapsed": true
   },
   "outputs": [],
   "source": []
  }
 ],
 "metadata": {
  "kernelspec": {
   "display_name": "Python 3",
   "language": "python",
   "name": "python3"
  },
  "language_info": {
   "codemirror_mode": {
    "name": "ipython",
    "version": 3
   },
   "file_extension": ".py",
   "mimetype": "text/x-python",
   "name": "python",
   "nbconvert_exporter": "python",
   "pygments_lexer": "ipython3",
   "version": "3.6.1"
  }
 },
 "nbformat": 4,
 "nbformat_minor": 1
}
